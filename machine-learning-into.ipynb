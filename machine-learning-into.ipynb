{
 "cells": [
  {
   "cell_type": "markdown",
   "metadata": {},
   "source": [
    "# Intro to machine learning"
   ]
  },
  {
   "cell_type": "markdown",
   "metadata": {},
   "source": [
    "In this tutorial we are going to go over the basics of machine learning.\n",
    "\n",
    "by the end of this course you will know how to\n",
    "1. Import data from a csv\n",
    "2. split your data into a train and test sets\n",
    "3. build a machine learning model\n",
    "4. Use your model to predict some data\n",
    "5. Evaluate how will your model is working\n",
    "\n",
    "This tutorial is by no means comprehensive and will only skim the surface of each part of machine learning\n",
    "\n",
    "If youw want more detail, you should check out the kaggle course that is tutorial was build off of that can be found [here](https://www.kaggle.com/learn/intro-to-machine-learning) \n",
    "\n",
    "so without any farther ado, lets begin"
   ]
  },
  {
   "cell_type": "markdown",
   "metadata": {},
   "source": [
    "## Importing data"
   ]
  },
  {
   "cell_type": "markdown",
   "metadata": {},
   "source": [
    "To build a machine learning model we are going to need data.\n",
    "\n",
    "They way the models work is by taking in a bunch of data, then trying to find patterns based on that data"
   ]
  },
  {
   "cell_type": "markdown",
   "metadata": {},
   "source": [
    "The dataset we are going to work with today contains various information about houses that were sold.\n",
    "\n",
    "details on each field in the table can be found in the \"Data fields\" section of [this webpage](https://www.kaggle.com/competitions/home-data-for-ml-course/data)"
   ]
  },
  {
   "cell_type": "markdown",
   "metadata": {},
   "source": [
    "to begin, lets import the pandas libary as its standard abbriviation: pd"
   ]
  },
  {
   "cell_type": "code",
   "execution_count": null,
   "metadata": {},
   "outputs": [],
   "source": [
    "import pandas as pd"
   ]
  },
  {
   "cell_type": "markdown",
   "metadata": {},
   "source": [
    "now that we have pandas imported, lets use `pd.read_csv()` to create a pandas dataframe with all of our housing data in it"
   ]
  },
  {
   "cell_type": "code",
   "execution_count": null,
   "metadata": {},
   "outputs": [],
   "source": []
  },
  {
   "cell_type": "markdown",
   "metadata": {},
   "source": [
    "we can use `.describe()` on our new dataframe to gain more information on each column in the dataframe"
   ]
  },
  {
   "cell_type": "code",
   "execution_count": null,
   "metadata": {},
   "outputs": [],
   "source": []
  },
  {
   "cell_type": "markdown",
   "metadata": {},
   "source": [
    "Now that we have our data in a dataframe, we need to seperate the values we want to predict (y) from the features we want to use to predict them (X)\n"
   ]
  },
  {
   "cell_type": "code",
   "execution_count": null,
   "metadata": {},
   "outputs": [],
   "source": []
  },
  {
   "cell_type": "markdown",
   "metadata": {},
   "source": [
    "For sake of keeping this tutorial simple, we are going to choose 5 random features to build our model on. <br/>\n",
    "In this case, I went with Lot Area, FullBath, BedroomAbvGr, KitchenAbvGr, and YearBuilt\n",
    "\n",
    "However, when building our own models we want to choose our features carefully to have the best impact on our model. \n",
    "\n",
    "Try to think about what methods could we use to choose good features.\n",
    "(Hint: What does correlation mean?)"
   ]
  },
  {
   "cell_type": "code",
   "execution_count": null,
   "metadata": {},
   "outputs": [],
   "source": []
  },
  {
   "cell_type": "markdown",
   "metadata": {},
   "source": [
    "Now that we have selected our features, we are going to create a new dataframe that contains only the data for those features."
   ]
  },
  {
   "cell_type": "code",
   "execution_count": null,
   "metadata": {},
   "outputs": [],
   "source": []
  },
  {
   "cell_type": "markdown",
   "metadata": {},
   "source": [
    "Now it is time to get to the good stuff: building our machine learning model.\n",
    "\n",
    "to start, we are going to install scikit-learn which is a popular machine learning library."
   ]
  },
  {
   "cell_type": "code",
   "execution_count": null,
   "metadata": {},
   "outputs": [],
   "source": [
    "pip install scikit-learn"
   ]
  },
  {
   "cell_type": "code",
   "execution_count": null,
   "metadata": {},
   "outputs": [],
   "source": [
    "from sklearn.tree import DecisionTreeRegressor\n",
    "from sklearn.model_selection import train_test_split"
   ]
  },
  {
   "cell_type": "markdown",
   "metadata": {},
   "source": [
    "## Building our model"
   ]
  },
  {
   "cell_type": "markdown",
   "metadata": {},
   "source": [
    "The first thing we are going to want to do is split up our dataset into training and testing date.\n",
    "\n",
    "The reason that we are doing this is because we can't use data that is used to train the model to also test the model.<br/>\n",
    "If we did that, the model could just go into it the data it has already seen and pull out the right answer.<br/>\n",
    "To figure out how well our model is working, we want to use data that the model has not already seen to test it."
   ]
  },
  {
   "cell_type": "code",
   "execution_count": null,
   "metadata": {},
   "outputs": [],
   "source": []
  },
  {
   "cell_type": "markdown",
   "metadata": {},
   "source": [
    "Next we decide on a algorithms to use. In this case we are going to use a Decision Tree.<br/>\n",
    "While I won't go into the details how they work, I would encourage you to [read more about them](https://towardsdatascience.com/decision-trees-in-machine-learning-641b9c4e8052)"
   ]
  },
  {
   "cell_type": "markdown",
   "metadata": {},
   "source": [
    "As a data scientist, you will need to learn about many machine learning models and the Pros/Cons."
   ]
  },
  {
   "cell_type": "code",
   "execution_count": null,
   "metadata": {},
   "outputs": [],
   "source": []
  },
  {
   "cell_type": "markdown",
   "metadata": {},
   "source": [
    "Now, we train our model using `model.fit(train_X, train_Y)`\n",
    "<br/>\n"
   ]
  },
  {
   "cell_type": "code",
   "execution_count": null,
   "metadata": {},
   "outputs": [],
   "source": []
  },
  {
   "cell_type": "markdown",
   "metadata": {},
   "source": [
    "## Making Predictions"
   ]
  },
  {
   "cell_type": "markdown",
   "metadata": {},
   "source": [
    "Now that our model has been create and trained, it is ready to make predictions."
   ]
  },
  {
   "cell_type": "markdown",
   "metadata": {},
   "source": [
    "using the `model.predict()` method on any set of x values will give the predictions for those sets of values"
   ]
  },
  {
   "cell_type": "code",
   "execution_count": null,
   "metadata": {},
   "outputs": [],
   "source": []
  },
  {
   "cell_type": "markdown",
   "metadata": {},
   "source": [
    "But how do we know that our predictions are correct? </br>"
   ]
  },
  {
   "cell_type": "markdown",
   "metadata": {},
   "source": [
    "## Validating Our Model"
   ]
  },
  {
   "cell_type": "markdown",
   "metadata": {},
   "source": [
    "Validation is the process of making sure that our model is giving us precise and accurate predictions."
   ]
  },
  {
   "cell_type": "code",
   "execution_count": null,
   "metadata": {},
   "outputs": [],
   "source": [
    "from sklearn.metrics import mean_absolute_error"
   ]
  },
  {
   "cell_type": "markdown",
   "metadata": {},
   "source": [
    "To validate our model we are going to need a evaluation metric. This metric will allows us to see how accurate our model is."
   ]
  },
  {
   "cell_type": "markdown",
   "metadata": {},
   "source": [
    "For this workshop, we will use Mean Absolute Error (MAE). But, there are many other validation metrics and each one has it uses. Just like models, knowing which validation metric to use is a key factor in creating good machine learning models. "
   ]
  },
  {
   "cell_type": "code",
   "execution_count": null,
   "metadata": {},
   "outputs": [],
   "source": []
  },
  {
   "cell_type": "markdown",
   "metadata": {},
   "source": [
    "## Using other machine learning algorithms"
   ]
  },
  {
   "cell_type": "markdown",
   "metadata": {},
   "source": [
    "For our model we used a Decision Trees but there are many other machine learning algorithms. Even ones better suited for this example."
   ]
  },
  {
   "cell_type": "markdown",
   "metadata": {},
   "source": [
    "I encourage you to look up some machine learning models, choose one you like, and see if it performs better or worse than the decision tree. \n",
    "\n",
    "Then research different evaluation metrics and compare the models again.\n",
    "\n"
   ]
  },
  {
   "cell_type": "markdown",
   "metadata": {},
   "source": [
    "For both the new machine learning algorithm and evaluation metric, be able to justify why you choose it and also have a guess on why you are getting the given results "
   ]
  }
 ],
 "metadata": {
  "kernelspec": {
   "display_name": "Python 3",
   "language": "python",
   "name": "python3"
  },
  "language_info": {
   "codemirror_mode": {
    "name": "ipython",
    "version": 3
   },
   "file_extension": ".py",
   "mimetype": "text/x-python",
   "name": "python",
   "nbconvert_exporter": "python",
   "pygments_lexer": "ipython3",
   "version": "3.10.11"
  },
  "orig_nbformat": 4
 },
 "nbformat": 4,
 "nbformat_minor": 2
}
